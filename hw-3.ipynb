{
 "cells": [
  {
   "cell_type": "code",
   "execution_count": null,
   "metadata": {},
   "outputs": [],
   "source": [
    "%matplotlib inline\n",
    "import numpy as np\n",
    "import matplotlib.pyplot as plt"
   ]
  },
  {
   "cell_type": "code",
   "execution_count": null,
   "metadata": {},
   "outputs": [],
   "source": [
    "def function_for_roots(x):\n",
    "    a=1.01\n",
    "    b=-3.04\n",
    "    c=2.07\n",
    "    return a*x**2+b*x+c"
   ]
  },
  {
   "cell_type": "code",
   "execution_count": null,
   "metadata": {},
   "outputs": [],
   "source": [
    "def check_initial_values(f,x_min,x_max,tol):\n",
    "    y_min=f(x_min)\n",
    "    y_max=f(x_max)\n",
    "    if (y_min*y_max>=0.0):\n",
    "        print(\"No zero crossing found in the range=\",x_min,x_max)\n",
    "        s=\"f(%f)=%f,f(%f)=%f\"%(x_min,y_min,x_max,y_max)\n",
    "        print(s)\n",
    "        return 0\n",
    "    if(np.fabs(y_min)<tol):\n",
    "        return 1\n",
    "    if(np.fabs(y_max)<tol):\n",
    "        return 2\n",
    "    return 3\n",
    "def bisection_root_finding(f,x_min_start,x_max_start,tol):\n",
    "    x_min=x_min_start\n",
    "    x_max=x_max_start\n",
    "    x_mid=0.0\n",
    "    y_min=f(x_min)\n",
    "    y_max=f(x_max)\n",
    "    y_mid=0.0\n",
    "    imax=10000\n",
    "    i=0\n",
    "    flag=check_initial_values(f,x_min,x_max,tol)\n",
    "    if(flag==0):\n",
    "        print(\"Error in bisection_root_finding().\")\n",
    "        raise ValueError('Initial vaues invalid',x_min,x_max)\n",
    "    elif(flag==1):\n",
    "        return x_min\n",
    "    elif(flag==2):\n",
    "        return x_max\n",
    "    flag=1\n",
    "    while(flag):\n",
    "        x_mid=0.5*(x_min+x_max)\n",
    "        y_mid=f(x_mid)\n",
    "        if(np.fabs(y_mid)<tol):\n",
    "            flag=0\n",
    "        else:\n",
    "            if(f(x_min)*f(x_max)>0):\n",
    "                x_min=x_mid\n",
    "            else:\n",
    "                x_max=x_mid\n",
    "        print(x_min,f(x_min),x_max,f(x_max))    \n",
    "        i+=1\n",
    "        if(i>imax):\n",
    "            print(\"Exceeded max number of iterations=\",i)\n",
    "            s=\"Min bracket f(%f)=%f\"%(x_min,f(x_min))\n",
    "            print(s)\n",
    "            s=\"Max bracket f(%f)=%f\"%(x_max,f(x_max))\n",
    "            print(s)\n",
    "            s=\"Mid bracket f(%f)=%f\"%(x_mid,f(x_mid))\n",
    "            print(s)\n",
    "            raise StopIteration('Stopping iterations after',i)\n",
    "    return x_mid        "
   ]
  },
  {
   "cell_type": "code",
   "execution_count": null,
   "metadata": {},
   "outputs": [],
   "source": [
    "x_min=0.0\n",
    "x_max=1.5\n",
    "tolerance=1.0e-6\n",
    "print(x_min,function_for_roots(x_min))\n",
    "print(x_max,function_for_roots(x_max))\n",
    "x_root=bisection_root_finding(function_for_roots,x_min,x_max,tolerance)\n",
    "y_root=function_for_roots(x_root)\n",
    "s=\"Root found with y(%f)=%f\"%(x_root,y_root)\n",
    "print(s)"
   ]
  },
  {
   "cell_type": "code",
   "execution_count": null,
   "metadata": {},
   "outputs": [],
   "source": [
    "x=np.linspace(0,3,1000)\n",
    "y=a*x**2+b*x+c\n",
    "z=0"
   ]
  },
  {
   "cell_type": "code",
   "execution_count": null,
   "metadata": {},
   "outputs": [],
   "source": [
    "plt.plot(x,y,label=r'$y$')\n",
    "plt.plot(x,z,label=r'$y$')\n",
    "plt.xlabel(r'$Time in ASTR / EART 119$')\n",
    "plt.ylabel(r'$Measures of Awesomeness$')\n",
    "plt.xlim([0,3])\n",
    "plt.ylim([-0.5,2.1])"
   ]
  },
  {
   "cell_type": "code",
   "execution_count": null,
   "metadata": {},
   "outputs": [],
   "source": []
  }
 ],
 "metadata": {
  "kernelspec": {
   "display_name": "Python 3",
   "language": "python",
   "name": "python3"
  },
  "language_info": {
   "codemirror_mode": {
    "name": "ipython",
    "version": 3
   },
   "file_extension": ".py",
   "mimetype": "text/x-python",
   "name": "python",
   "nbconvert_exporter": "python",
   "pygments_lexer": "ipython3",
   "version": "3.6.5"
  }
 },
 "nbformat": 4,
 "nbformat_minor": 2
}
